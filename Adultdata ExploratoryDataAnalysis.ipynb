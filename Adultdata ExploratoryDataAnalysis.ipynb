{
 "cells": [
  {
   "cell_type": "markdown",
   "metadata": {},
   "source": [
    "# Exploratory data analysis of the Adult data set"
   ]
  },
  {
   "cell_type": "markdown",
   "metadata": {},
   "source": [
    "The Adult dataset used here can be download from the UCI machine learning repository: \n",
    "http://archive.ics.uci.edu/ml/datasets/Adult\n",
    "\n",
    "The dataset has two classes (income >=50K, and income >50K) with 14 features:\n",
    "- 6 quantitative (=numerical) variables,  i.e., age, fnlwgt, eduction-num, capital-gain, capital-loss, hours-per-week\n",
    "- 8 qualitative (=categorical) variables, i.e., workclass, education, marital-status, occupation, relationship, race, sex and native-country."
   ]
  },
  {
   "cell_type": "markdown",
   "metadata": {},
   "source": [
    "## Load the data"
   ]
  },
  {
   "cell_type": "code",
   "execution_count": 1,
   "metadata": {
    "collapsed": true
   },
   "outputs": [],
   "source": [
    "import numpy as np\n",
    "import matplotlib.pyplot as plt\n",
    "import pandas as pd\n",
    "import math\n",
    "from sklearn.preprocessing import StandardScaler\n",
    "%matplotlib inline"
   ]
  },
  {
   "cell_type": "code",
   "execution_count": 2,
   "metadata": {
    "collapsed": false
   },
   "outputs": [],
   "source": [
    "df = pd.read_csv('http://archive.ics.uci.edu/ml/machine-learning-databases/adult/adult.data', \n",
    "                                names = ['age', 'workclass', 'fnlwgt','education',\n",
    "                                        'education-num','marital-status','occupation',\n",
    "                                        'relationship','race','sex','capital-gain',\n",
    "                                        'capital-loss','hours-per-week','native-country',\n",
    "                                        'income'])\n",
    "\n",
    "dftest = pd.read_csv('http://archive.ics.uci.edu/ml/machine-learning-databases/adult/adult.test', \n",
    "                                names = ['age', 'workclass', 'fnlwgt','education',\n",
    "                                        'education-num','marital-status','occupation',\n",
    "                                        'relationship','race','sex','capital-gain',\n",
    "                                        'capital-loss','hours-per-week','native-country', 'income'], \n",
    "                                skiprows = 1)\n"
   ]
  },
  {
   "cell_type": "markdown",
   "metadata": {},
   "source": [
    "#### Sneak preview on dataframe:"
   ]
  },
  {
   "cell_type": "code",
   "execution_count": 3,
   "metadata": {
    "collapsed": false
   },
   "outputs": [
    {
     "data": {
      "text/html": [
       "<div>\n",
       "<table border=\"1\" class=\"dataframe\">\n",
       "  <thead>\n",
       "    <tr style=\"text-align: right;\">\n",
       "      <th></th>\n",
       "      <th>age</th>\n",
       "      <th>workclass</th>\n",
       "      <th>fnlwgt</th>\n",
       "      <th>education</th>\n",
       "      <th>education-num</th>\n",
       "      <th>marital-status</th>\n",
       "      <th>occupation</th>\n",
       "      <th>relationship</th>\n",
       "      <th>race</th>\n",
       "      <th>sex</th>\n",
       "      <th>capital-gain</th>\n",
       "      <th>capital-loss</th>\n",
       "      <th>hours-per-week</th>\n",
       "      <th>native-country</th>\n",
       "      <th>income</th>\n",
       "    </tr>\n",
       "  </thead>\n",
       "  <tbody>\n",
       "    <tr>\n",
       "      <th>0</th>\n",
       "      <td>39</td>\n",
       "      <td>State-gov</td>\n",
       "      <td>77516</td>\n",
       "      <td>Bachelors</td>\n",
       "      <td>13</td>\n",
       "      <td>Never-married</td>\n",
       "      <td>Adm-clerical</td>\n",
       "      <td>Not-in-family</td>\n",
       "      <td>White</td>\n",
       "      <td>Male</td>\n",
       "      <td>2174</td>\n",
       "      <td>0</td>\n",
       "      <td>40</td>\n",
       "      <td>United-States</td>\n",
       "      <td>&lt;=50K</td>\n",
       "    </tr>\n",
       "    <tr>\n",
       "      <th>1</th>\n",
       "      <td>50</td>\n",
       "      <td>Self-emp-not-inc</td>\n",
       "      <td>83311</td>\n",
       "      <td>Bachelors</td>\n",
       "      <td>13</td>\n",
       "      <td>Married-civ-spouse</td>\n",
       "      <td>Exec-managerial</td>\n",
       "      <td>Husband</td>\n",
       "      <td>White</td>\n",
       "      <td>Male</td>\n",
       "      <td>0</td>\n",
       "      <td>0</td>\n",
       "      <td>13</td>\n",
       "      <td>United-States</td>\n",
       "      <td>&lt;=50K</td>\n",
       "    </tr>\n",
       "    <tr>\n",
       "      <th>2</th>\n",
       "      <td>38</td>\n",
       "      <td>Private</td>\n",
       "      <td>215646</td>\n",
       "      <td>HS-grad</td>\n",
       "      <td>9</td>\n",
       "      <td>Divorced</td>\n",
       "      <td>Handlers-cleaners</td>\n",
       "      <td>Not-in-family</td>\n",
       "      <td>White</td>\n",
       "      <td>Male</td>\n",
       "      <td>0</td>\n",
       "      <td>0</td>\n",
       "      <td>40</td>\n",
       "      <td>United-States</td>\n",
       "      <td>&lt;=50K</td>\n",
       "    </tr>\n",
       "    <tr>\n",
       "      <th>3</th>\n",
       "      <td>53</td>\n",
       "      <td>Private</td>\n",
       "      <td>234721</td>\n",
       "      <td>11th</td>\n",
       "      <td>7</td>\n",
       "      <td>Married-civ-spouse</td>\n",
       "      <td>Handlers-cleaners</td>\n",
       "      <td>Husband</td>\n",
       "      <td>Black</td>\n",
       "      <td>Male</td>\n",
       "      <td>0</td>\n",
       "      <td>0</td>\n",
       "      <td>40</td>\n",
       "      <td>United-States</td>\n",
       "      <td>&lt;=50K</td>\n",
       "    </tr>\n",
       "    <tr>\n",
       "      <th>4</th>\n",
       "      <td>28</td>\n",
       "      <td>Private</td>\n",
       "      <td>338409</td>\n",
       "      <td>Bachelors</td>\n",
       "      <td>13</td>\n",
       "      <td>Married-civ-spouse</td>\n",
       "      <td>Prof-specialty</td>\n",
       "      <td>Wife</td>\n",
       "      <td>Black</td>\n",
       "      <td>Female</td>\n",
       "      <td>0</td>\n",
       "      <td>0</td>\n",
       "      <td>40</td>\n",
       "      <td>Cuba</td>\n",
       "      <td>&lt;=50K</td>\n",
       "    </tr>\n",
       "  </tbody>\n",
       "</table>\n",
       "</div>"
      ],
      "text/plain": [
       "   age          workclass  fnlwgt   education  education-num  \\\n",
       "0   39          State-gov   77516   Bachelors             13   \n",
       "1   50   Self-emp-not-inc   83311   Bachelors             13   \n",
       "2   38            Private  215646     HS-grad              9   \n",
       "3   53            Private  234721        11th              7   \n",
       "4   28            Private  338409   Bachelors             13   \n",
       "\n",
       "        marital-status          occupation    relationship    race      sex  \\\n",
       "0        Never-married        Adm-clerical   Not-in-family   White     Male   \n",
       "1   Married-civ-spouse     Exec-managerial         Husband   White     Male   \n",
       "2             Divorced   Handlers-cleaners   Not-in-family   White     Male   \n",
       "3   Married-civ-spouse   Handlers-cleaners         Husband   Black     Male   \n",
       "4   Married-civ-spouse      Prof-specialty            Wife   Black   Female   \n",
       "\n",
       "   capital-gain  capital-loss  hours-per-week  native-country  income  \n",
       "0          2174             0              40   United-States   <=50K  \n",
       "1             0             0              13   United-States   <=50K  \n",
       "2             0             0              40   United-States   <=50K  \n",
       "3             0             0              40   United-States   <=50K  \n",
       "4             0             0              40            Cuba   <=50K  "
      ]
     },
     "execution_count": 3,
     "metadata": {},
     "output_type": "execute_result"
    }
   ],
   "source": [
    "df.head()"
   ]
  },
  {
   "cell_type": "markdown",
   "metadata": {},
   "source": [
    "#### Which data types are we dealing with?"
   ]
  },
  {
   "cell_type": "code",
   "execution_count": 4,
   "metadata": {
    "collapsed": false
   },
   "outputs": [
    {
     "data": {
      "text/plain": [
       "age                int64\n",
       "workclass         object\n",
       "fnlwgt             int64\n",
       "education         object\n",
       "education-num      int64\n",
       "marital-status    object\n",
       "occupation        object\n",
       "relationship      object\n",
       "race              object\n",
       "sex               object\n",
       "capital-gain       int64\n",
       "capital-loss       int64\n",
       "hours-per-week     int64\n",
       "native-country    object\n",
       "income            object\n",
       "dtype: object"
      ]
     },
     "execution_count": 4,
     "metadata": {},
     "output_type": "execute_result"
    }
   ],
   "source": [
    "df.dtypes"
   ]
  },
  {
   "cell_type": "markdown",
   "metadata": {},
   "source": [
    "#### Do we have missing inputs (= empty fields)?"
   ]
  },
  {
   "cell_type": "code",
   "execution_count": 5,
   "metadata": {
    "collapsed": false
   },
   "outputs": [
    {
     "data": {
      "text/plain": [
       "age               32561\n",
       "workclass         32561\n",
       "fnlwgt            32561\n",
       "education         32561\n",
       "education-num     32561\n",
       "marital-status    32561\n",
       "occupation        32561\n",
       "relationship      32561\n",
       "race              32561\n",
       "sex               32561\n",
       "capital-gain      32561\n",
       "capital-loss      32561\n",
       "hours-per-week    32561\n",
       "native-country    32561\n",
       "income            32561\n",
       "dtype: int64"
      ]
     },
     "execution_count": 5,
     "metadata": {},
     "output_type": "execute_result"
    }
   ],
   "source": [
    "df.count()"
   ]
  },
  {
   "cell_type": "code",
   "execution_count": 6,
   "metadata": {
    "collapsed": false
   },
   "outputs": [
    {
     "data": {
      "text/plain": [
       "age               16281\n",
       "workclass         16281\n",
       "fnlwgt            16281\n",
       "education         16281\n",
       "education-num     16281\n",
       "marital-status    16281\n",
       "occupation        16281\n",
       "relationship      16281\n",
       "race              16281\n",
       "sex               16281\n",
       "capital-gain      16281\n",
       "capital-loss      16281\n",
       "hours-per-week    16281\n",
       "native-country    16281\n",
       "income            16281\n",
       "dtype: int64"
      ]
     },
     "execution_count": 6,
     "metadata": {},
     "output_type": "execute_result"
    }
   ],
   "source": [
    "dftest.count()"
   ]
  },
  {
   "cell_type": "markdown",
   "metadata": {},
   "source": [
    "=> No, we don't have missing entries."
   ]
  },
  {
   "cell_type": "markdown",
   "metadata": {},
   "source": [
    "#### Are the same feature variables present in both the train and test dataset?"
   ]
  },
  {
   "cell_type": "code",
   "execution_count": 7,
   "metadata": {
    "collapsed": false
   },
   "outputs": [
    {
     "name": "stdout",
     "output_type": "stream",
     "text": [
      "workclass\n",
      "[' ?', ' Federal-gov', ' Local-gov', ' Never-worked', ' Private', ' Self-emp-inc', ' Self-emp-not-inc', ' State-gov', ' Without-pay']\n",
      "[' ?', ' Federal-gov', ' Local-gov', ' Never-worked', ' Private', ' Self-emp-inc', ' Self-emp-not-inc', ' State-gov', ' Without-pay']\n",
      "True\n",
      "\n",
      "education\n",
      "[' 10th', ' 11th', ' 12th', ' 1st-4th', ' 5th-6th', ' 7th-8th', ' 9th', ' Assoc-acdm', ' Assoc-voc', ' Bachelors', ' Doctorate', ' HS-grad', ' Masters', ' Preschool', ' Prof-school', ' Some-college']\n",
      "[' 10th', ' 11th', ' 12th', ' 1st-4th', ' 5th-6th', ' 7th-8th', ' 9th', ' Assoc-acdm', ' Assoc-voc', ' Bachelors', ' Doctorate', ' HS-grad', ' Masters', ' Preschool', ' Prof-school', ' Some-college']\n",
      "True\n",
      "\n",
      "marital-status\n",
      "[' Divorced', ' Married-AF-spouse', ' Married-civ-spouse', ' Married-spouse-absent', ' Never-married', ' Separated', ' Widowed']\n",
      "[' Divorced', ' Married-AF-spouse', ' Married-civ-spouse', ' Married-spouse-absent', ' Never-married', ' Separated', ' Widowed']\n",
      "True\n",
      "\n",
      "occupation\n",
      "[' ?', ' Adm-clerical', ' Armed-Forces', ' Craft-repair', ' Exec-managerial', ' Farming-fishing', ' Handlers-cleaners', ' Machine-op-inspct', ' Other-service', ' Priv-house-serv', ' Prof-specialty', ' Protective-serv', ' Sales', ' Tech-support', ' Transport-moving']\n",
      "[' ?', ' Adm-clerical', ' Armed-Forces', ' Craft-repair', ' Exec-managerial', ' Farming-fishing', ' Handlers-cleaners', ' Machine-op-inspct', ' Other-service', ' Priv-house-serv', ' Prof-specialty', ' Protective-serv', ' Sales', ' Tech-support', ' Transport-moving']\n",
      "True\n",
      "\n",
      "relationship\n",
      "[' Husband', ' Not-in-family', ' Other-relative', ' Own-child', ' Unmarried', ' Wife']\n",
      "[' Husband', ' Not-in-family', ' Other-relative', ' Own-child', ' Unmarried', ' Wife']\n",
      "True\n",
      "\n",
      "race\n",
      "[' Amer-Indian-Eskimo', ' Asian-Pac-Islander', ' Black', ' Other', ' White']\n",
      "[' Amer-Indian-Eskimo', ' Asian-Pac-Islander', ' Black', ' Other', ' White']\n",
      "True\n",
      "\n",
      "sex\n",
      "[' Female', ' Male']\n",
      "[' Female', ' Male']\n",
      "True\n",
      "\n",
      "native-country\n",
      "[' ?', ' Cambodia', ' Canada', ' China', ' Columbia', ' Cuba', ' Dominican-Republic', ' Ecuador', ' El-Salvador', ' England', ' France', ' Germany', ' Greece', ' Guatemala', ' Haiti', ' Holand-Netherlands', ' Honduras', ' Hong', ' Hungary', ' India', ' Iran', ' Ireland', ' Italy', ' Jamaica', ' Japan', ' Laos', ' Mexico', ' Nicaragua', ' Outlying-US(Guam-USVI-etc)', ' Peru', ' Philippines', ' Poland', ' Portugal', ' Puerto-Rico', ' Scotland', ' South', ' Taiwan', ' Thailand', ' Trinadad&Tobago', ' United-States', ' Vietnam', ' Yugoslavia']\n",
      "[' ?', ' Cambodia', ' Canada', ' China', ' Columbia', ' Cuba', ' Dominican-Republic', ' Ecuador', ' El-Salvador', ' England', ' France', ' Germany', ' Greece', ' Guatemala', ' Haiti', ' Honduras', ' Hong', ' Hungary', ' India', ' Iran', ' Ireland', ' Italy', ' Jamaica', ' Japan', ' Laos', ' Mexico', ' Nicaragua', ' Outlying-US(Guam-USVI-etc)', ' Peru', ' Philippines', ' Poland', ' Portugal', ' Puerto-Rico', ' Scotland', ' South', ' Taiwan', ' Thailand', ' Trinadad&Tobago', ' United-States', ' Vietnam', ' Yugoslavia']\n",
      "False\n",
      "\n"
     ]
    }
   ],
   "source": [
    "for column in ['workclass', 'education', 'marital-status', 'occupation','relationship', 'race', 'sex','native-country']:\n",
    "    print column\n",
    "    print sorted(df[column].unique())\n",
    "    print sorted(dftest[column].unique())\n",
    "    print sorted(df[column].unique()) == sorted(dftest[column].unique())\n",
    "    print ''"
   ]
  },
  {
   "cell_type": "markdown",
   "metadata": {},
   "source": [
    "Except for the 'native-country', the categorical features are the same for both train and test set. In the 'native-country' category, the train set has one more country, the ' Holand-Netherlands', which is not present in the test set. "
   ]
  },
  {
   "cell_type": "markdown",
   "metadata": {},
   "source": [
    "#### Are we dealing with balanced classes?"
   ]
  },
  {
   "cell_type": "code",
   "execution_count": 8,
   "metadata": {
    "collapsed": false
   },
   "outputs": [
    {
     "name": "stdout",
     "output_type": "stream",
     "text": [
      "Making more than 50K: 7841\n",
      "Making less or equal 50K: 24720\n",
      "Ratio: 3.1526590996\n"
     ]
    }
   ],
   "source": [
    "a = df['income'][df['income'] == ' >50K'].count()\n",
    "b = df['income'][df['income'] == ' <=50K'].count()\n",
    "ratio = float(b)/float(a)\n",
    "print 'Making more than 50K: ' + str(a)\n",
    "print 'Making less or equal 50K: ' + str(b)\n",
    "print 'Ratio: ' + str(ratio)"
   ]
  },
  {
   "cell_type": "markdown",
   "metadata": {},
   "source": [
    "The dataset are slightly imbalanced, and we should keep that in mind when visually exploring the data. "
   ]
  },
  {
   "cell_type": "markdown",
   "metadata": {},
   "source": [
    "## Explore features: categorical variables\n",
    "\n",
    "First, let's define some functions to help visualize the categorical data:"
   ]
  },
  {
   "cell_type": "code",
   "execution_count": 9,
   "metadata": {
    "collapsed": false
   },
   "outputs": [],
   "source": [
    "def plotData(column, figsize=(7,5)):\n",
    "    #input: string column = feature name\n",
    "    a = df[column][df['income'] == ' >50K'].value_counts()\n",
    "    b = df[column][df['income'] == ' <=50K'].value_counts()\n",
    "    #Normalize counts by ratio\n",
    "    a = a * ratio\n",
    "    #add to new dataframe\n",
    "    new = pd.concat([a,b], axis = 1, keys=[' >50K', ' <=50K'])\n",
    "    \n",
    "    new.plot(kind='barh', stacked= True, color = ['b', 'y'], figsize = figsize)\n",
    "\n",
    "    \n",
    "def printRatios(column, roundingprecision = 2):\n",
    "    #prints ratios after normalization\n",
    "    #input: string column = feature name\n",
    "    a = df[column][df['income'] == ' >50K'].value_counts()\n",
    "    b = df[column][df['income'] == ' <=50K'].value_counts()\n",
    "    \n",
    "    #Normalize by ratio\n",
    "    a = a * ratio\n",
    "    \n",
    "    #print 'income >50K (normalized):'\n",
    "    #print a\n",
    "    #print '' \n",
    "    #print 'income <=50K:'\n",
    "    #print b\n",
    "    #print ''\n",
    "    \n",
    "    new = pd.concat([a,b], axis = 1, keys=[' >50K', ' <=50K'])\n",
    "    print 'Normalized ratio of >50K to  <=50K  workers for feature ' + column + ':'\n",
    "    for index in new.index:\n",
    "        asum = float(new[' >50K'][index])\n",
    "        bsum = float(new[' <=50K'][index])\n",
    "        if math.isnan(asum) == True:\n",
    "            asum = 0\n",
    "        cratio = round(asum/bsum, roundingprecision)\n",
    "        print (index + ': ').ljust(25) + str(cratio)"
   ]
  },
  {
   "cell_type": "markdown",
   "metadata": {},
   "source": [
    "#### Workclass"
   ]
  },
  {
   "cell_type": "code",
   "execution_count": 10,
   "metadata": {
    "collapsed": false,
    "scrolled": true
   },
   "outputs": [
    {
     "data": {
      "image/png": "[encoded data removed]",
      "text/plain": [
       "<matplotlib.figure.Figure at 0x11618ab10>"
      ]
     },
     "metadata": {},
     "output_type": "display_data"
    }
   ],
   "source": [
    "plotData('workclass')"
   ]
  },
  {
   "cell_type": "code",
   "execution_count": 11,
   "metadata": {
    "collapsed": false
   },
   "outputs": [
    {
     "name": "stdout",
     "output_type": "stream",
     "text": [
      "Normalized ratio of >50K to  <=50K  workers for feature workclass:\n",
      " ?:                      0.37\n",
      " Federal-gov:            1.99\n",
      " Local-gov:              1.32\n",
      " Never-worked:           0.0\n",
      " Private:                0.88\n",
      " Self-emp-inc:           3.97\n",
      " Self-emp-not-inc:       1.26\n",
      " State-gov:              1.18\n",
      " Without-pay:            0.0\n"
     ]
    }
   ],
   "source": [
    "printRatios('workclass') "
   ]
  },
  {
   "cell_type": "markdown",
   "metadata": {},
   "source": [
    "Based on those ratios, we can conclude that the probability of having a job that pays more than 50K is highest for 'Self-emp-inc', and is quite high for 'Federal-gov' employees. Obviously, the chances of having a high salary is lowest for 'never-worked' and 'without-pay' groups.\n"
   ]
  },
  {
   "cell_type": "markdown",
   "metadata": {},
   "source": [
    "#### Education"
   ]
  },
  {
   "cell_type": "code",
   "execution_count": 12,
   "metadata": {
    "collapsed": false
   },
   "outputs": [
    {
     "data": {
      "image/png": "[encoded data removed]",
      "text/plain": [
       "<matplotlib.figure.Figure at 0x11687a210>"
      ]
     },
     "metadata": {},
     "output_type": "display_data"
    }
   ],
   "source": [
    "plotData('education')"
   ]
  },
  {
   "cell_type": "code",
   "execution_count": 13,
   "metadata": {
    "collapsed": false
   },
   "outputs": [
    {
     "name": "stdout",
     "output_type": "stream",
     "text": [
      "Normalized ratio of >50K to  <=50K  workers for feature education:\n",
      " 10th:                   0.22\n",
      " 11th:                   0.17\n",
      " 12th:                   0.26\n",
      " 1st-4th:                0.12\n",
      " 5th-6th:                0.16\n",
      " 7th-8th:                0.21\n",
      " 9th:                    0.17\n",
      " Assoc-acdm:             1.04\n",
      " Assoc-voc:              1.11\n",
      " Bachelors:              2.23\n",
      " Doctorate:              9.02\n",
      " HS-grad:                0.6\n",
      " Masters:                3.96\n",
      " Preschool:              0.0\n",
      " Prof-school:            8.72\n",
      " Some-college:           0.74\n"
     ]
    }
   ],
   "source": [
    "printRatios('education') "
   ]
  },
  {
   "cell_type": "markdown",
   "metadata": {},
   "source": [
    "Here, the results are not very surprising:\n",
    "\n",
    "- 'Doctorate' and 'Prof-school' have highest ratios of earning > 50K, i.e., ca 9.0\n",
    "- 'Master' have a ratio of ca 4.0\n",
    "- 'Bachelors' have a ratio of ca 2.2\n",
    "- 'Assoc-acdm' and 'Assoc-voc' have a ratio of ca 1.0\n",
    "- 'Some-college' and 'HS-grad' have a ratio of 0.7 and 0.6\n",
    "- Everybody who does not have a college degree has a ratio below 0.3 \n"
   ]
  },
  {
   "cell_type": "markdown",
   "metadata": {},
   "source": [
    "#### Marital status"
   ]
  },
  {
   "cell_type": "code",
   "execution_count": 14,
   "metadata": {
    "collapsed": false
   },
   "outputs": [
    {
     "data": {
      "image/png": "[encoded data removed]",
      "text/plain": [
       "<matplotlib.figure.Figure at 0x11715e7d0>"
      ]
     },
     "metadata": {},
     "output_type": "display_data"
    }
   ],
   "source": [
    "plotData('marital-status')"
   ]
  },
  {
   "cell_type": "code",
   "execution_count": 15,
   "metadata": {
    "collapsed": false
   },
   "outputs": [
    {
     "name": "stdout",
     "output_type": "stream",
     "text": [
      "Normalized ratio of >50K to  <=50K  workers for feature marital-status:\n",
      " Divorced:               0.37\n",
      " Married-AF-spouse:      2.43\n",
      " Married-civ-spouse:     2.55\n",
      " Married-spouse-absent:  0.28\n",
      " Never-married:          0.15\n",
      " Separated:              0.22\n",
      " Widowed:                0.3\n"
     ]
    }
   ],
   "source": [
    "printRatios('marital-status') "
   ]
  },
  {
   "cell_type": "markdown",
   "metadata": {},
   "source": [
    "Here, we see a significant difference between people with a partner, and people without a partner, with people being in a relationship having a better income. "
   ]
  },
  {
   "cell_type": "markdown",
   "metadata": {},
   "source": [
    "#### Relationship\n",
    "\n",
    "Relationship should be highly correlated with marital status:"
   ]
  },
  {
   "cell_type": "code",
   "execution_count": 16,
   "metadata": {
    "collapsed": false
   },
   "outputs": [
    {
     "data": {
      "image/png": "[encoded data removed]",
      "text/plain": [
       "<matplotlib.figure.Figure at 0x11734c150>"
      ]
     },
     "metadata": {},
     "output_type": "display_data"
    }
   ],
   "source": [
    "plotData('relationship')"
   ]
  },
  {
   "cell_type": "code",
   "execution_count": 17,
   "metadata": {
    "collapsed": false
   },
   "outputs": [
    {
     "name": "stdout",
     "output_type": "stream",
     "text": [
      "Normalized ratio of >50K to  <=50K  workers for feature relationship:\n",
      " Husband:                2.56\n",
      " Not-in-family:          0.36\n",
      " Other-relative:         0.12\n",
      " Own-child:              0.04\n",
      " Unmarried:              0.21\n",
      " Wife:                   2.85\n"
     ]
    }
   ],
   "source": [
    "printRatios('relationship') "
   ]
  },
  {
   "cell_type": "markdown",
   "metadata": {
    "collapsed": false
   },
   "source": [
    "As expected from the marital-status feature, wifes and husbands (=married people) have a higher earning potential."
   ]
  },
  {
   "cell_type": "markdown",
   "metadata": {},
   "source": [
    "#### Occupation"
   ]
  },
  {
   "cell_type": "code",
   "execution_count": 18,
   "metadata": {
    "collapsed": false
   },
   "outputs": [
    {
     "data": {
      "image/png": "[encoded data removed]",
      "text/plain": [
       "<matplotlib.figure.Figure at 0x117190410>"
      ]
     },
     "metadata": {},
     "output_type": "display_data"
    }
   ],
   "source": [
    "plotData('occupation')"
   ]
  },
  {
   "cell_type": "code",
   "execution_count": 19,
   "metadata": {
    "collapsed": false
   },
   "outputs": [
    {
     "name": "stdout",
     "output_type": "stream",
     "text": [
      "Normalized ratio of >50K to  <=50K  workers for feature occupation:\n",
      " ?:                      0.36\n",
      " Adm-clerical:           0.49\n",
      " Armed-Forces:           0.39\n",
      " Craft-repair:           0.92\n",
      " Exec-managerial:        2.96\n",
      " Farming-fishing:        0.41\n",
      " Handlers-cleaners:      0.21\n",
      " Machine-op-inspct:      0.45\n",
      " Other-service:          0.14\n",
      " Priv-house-serv:        0.02\n",
      " Prof-specialty:         2.57\n",
      " Protective-serv:        1.52\n",
      " Sales:                  1.16\n",
      " Tech-support:           1.38\n",
      " Transport-moving:       0.79\n"
     ]
    }
   ],
   "source": [
    "printRatios('occupation')"
   ]
  },
  {
   "cell_type": "markdown",
   "metadata": {},
   "source": [
    "The highest paying occupations are:\n",
    "- Exec-managerial (2.96)\n",
    "- Prof-specialty (2.57)\n",
    "- Protective-serv (1.52)\n",
    "- Tech-support (1.38)\n",
    "\n",
    "This also somewhat correlates with the feature 'Education', since those professions often require a lot of training above the level of a college degree."
   ]
  },
  {
   "cell_type": "markdown",
   "metadata": {
    "collapsed": false
   },
   "source": [
    "#### Race"
   ]
  },
  {
   "cell_type": "code",
   "execution_count": 20,
   "metadata": {
    "collapsed": false
   },
   "outputs": [
    {
     "data": {
      "image/png": "[encoded data removed]",
      "text/plain": [
       "<matplotlib.figure.Figure at 0x116b3a750>"
      ]
     },
     "metadata": {},
     "output_type": "display_data"
    }
   ],
   "source": [
    "plotData('race')"
   ]
  },
  {
   "cell_type": "code",
   "execution_count": 21,
   "metadata": {
    "collapsed": false
   },
   "outputs": [
    {
     "name": "stdout",
     "output_type": "stream",
     "text": [
      "Normalized ratio of >50K to  <=50K  workers for feature race:\n",
      " White:                  1.08\n",
      " Black:                  0.45\n",
      " Asian-Pac-Islander:     1.14\n",
      " Amer-Indian-Eskimo:     0.41\n",
      " Other:                  0.32\n"
     ]
    }
   ],
   "source": [
    "printRatios('race')"
   ]
  },
  {
   "cell_type": "markdown",
   "metadata": {},
   "source": [
    "Being White or Asian-Pac-Islander helps to be on the higher income group, while there is an obvious income gap for black and native Americans. "
   ]
  },
  {
   "cell_type": "markdown",
   "metadata": {},
   "source": [
    "#### Sex"
   ]
  },
  {
   "cell_type": "code",
   "execution_count": 22,
   "metadata": {
    "collapsed": false
   },
   "outputs": [
    {
     "data": {
      "image/png": "[encoded data removed]",
      "text/plain": [
       "<matplotlib.figure.Figure at 0x1172d2790>"
      ]
     },
     "metadata": {},
     "output_type": "display_data"
    }
   ],
   "source": [
    "plotData('sex')"
   ]
  },
  {
   "cell_type": "code",
   "execution_count": 23,
   "metadata": {
    "collapsed": false
   },
   "outputs": [
    {
     "name": "stdout",
     "output_type": "stream",
     "text": [
      "Normalized ratio of >50K to  <=50K  workers for feature sex:\n",
      " Male:                   1.39\n",
      " Female:                 0.39\n"
     ]
    }
   ],
   "source": [
    "printRatios('sex')"
   ]
  },
  {
   "cell_type": "markdown",
   "metadata": {},
   "source": [
    "Pretty obviously, there is a big gender gap. "
   ]
  },
  {
   "cell_type": "markdown",
   "metadata": {},
   "source": [
    "#### Native country"
   ]
  },
  {
   "cell_type": "code",
   "execution_count": 24,
   "metadata": {
    "collapsed": false
   },
   "outputs": [
    {
     "data": {
      "image/png": "[encoded data removed]",
      "text/plain": [
       "<matplotlib.figure.Figure at 0x1174d9d10>"
      ]
     },
     "metadata": {},
     "output_type": "display_data"
    }
   ],
   "source": [
    "plotData('native-country', figsize=(7,10))"
   ]
  },
  {
   "cell_type": "markdown",
   "metadata": {},
   "source": [
    "Most of the people in the survey are US people!"
   ]
  },
  {
   "cell_type": "code",
   "execution_count": 25,
   "metadata": {
    "collapsed": false
   },
   "outputs": [
    {
     "name": "stdout",
     "output_type": "stream",
     "text": [
      "Normalized ratio of >50K to  <=50K  workers for feature native-country:\n",
      " ?:                      1.05\n",
      " Cambodia:               1.84\n",
      " Canada:                 1.5\n",
      " China:                  1.15\n",
      " Columbia:               0.11\n",
      " Cuba:                   1.13\n",
      " Dominican-Republic:     0.09\n",
      " Ecuador:                0.53\n",
      " El-Salvador:            0.29\n",
      " England:                1.58\n",
      " France:                 2.23\n",
      " Germany:                1.49\n",
      " Greece:                 1.2\n",
      " Guatemala:              0.16\n",
      " Haiti:                  0.32\n",
      " Holand-Netherlands:     0.0\n",
      " Honduras:               0.26\n",
      " Hong:                   1.35\n",
      " Hungary:                0.95\n",
      " India:                  2.1\n",
      " Iran:                   2.27\n",
      " Ireland:                0.83\n",
      " Italy:                  1.64\n",
      " Jamaica:                0.44\n",
      " Japan:                  1.99\n",
      " Laos:                   0.39\n",
      " Mexico:                 0.17\n",
      " Nicaragua:              0.2\n",
      " Outlying-US(Guam-USVI-etc): 0.0\n",
      " Peru:                   0.22\n",
      " Philippines:            1.4\n",
      " Poland:                 0.79\n",
      " Portugal:               0.38\n",
      " Puerto-Rico:            0.37\n",
      " Scotland:               1.05\n",
      " South:                  0.79\n",
      " Taiwan:                 2.03\n",
      " Thailand:               0.63\n",
      " Trinadad&Tobago:        0.37\n",
      " United-States:          1.03\n",
      " Vietnam:                0.25\n",
      " Yugoslavia:             1.89\n"
     ]
    }
   ],
   "source": [
    "printRatios('native-country')"
   ]
  },
  {
   "cell_type": "markdown",
   "metadata": {},
   "source": [
    "There are a lot of foreign countries, and many of them have small total numbers, and thus, it is hard to draw statistically meaningful conclusion here. However, as a general trend, one can see that Europeans and Asians have a higher earning potential, while South American and African immigrant have lower salaries. Most likely, the more developed immigrant countries have higher salaries. "
   ]
  },
  {
   "cell_type": "markdown",
   "metadata": {
    "collapsed": false
   },
   "source": [
    "## Explore features: numerical variables"
   ]
  },
  {
   "cell_type": "code",
   "execution_count": 26,
   "metadata": {
    "collapsed": false
   },
   "outputs": [],
   "source": [
    "def plotHistogram(column, figsize = (7,5)):\n",
    " \n",
    "    a = df[column][df['income'] == ' >50K']\n",
    "    b = df[column][df['income'] == ' <=50K']\n",
    "    #add to new dataframe\n",
    "    new = pd.concat([a,b], axis = 1, keys=[' >50K', ' <=50K'])  \n",
    "    new.plot(kind='hist', color = ['b', 'y'], bins = 80, figsize = figsize, alpha = 0.5)\n"
   ]
  },
  {
   "cell_type": "markdown",
   "metadata": {},
   "source": [
    "#### Age"
   ]
  },
  {
   "cell_type": "code",
   "execution_count": 27,
   "metadata": {
    "collapsed": false
   },
   "outputs": [
    {
     "data": {
      "image/png": "[encoded data removed]",
      "text/plain": [
       "<matplotlib.figure.Figure at 0x11777df90>"
      ]
     },
     "metadata": {},
     "output_type": "display_data"
    }
   ],
   "source": [
    "plotHistogram('age')"
   ]
  },
  {
   "cell_type": "markdown",
   "metadata": {
    "collapsed": true
   },
   "source": [
    "One's salaray is increasing with age."
   ]
  },
  {
   "cell_type": "markdown",
   "metadata": {
    "collapsed": false
   },
   "source": [
    "#### fnlwgt"
   ]
  },
  {
   "cell_type": "code",
   "execution_count": 28,
   "metadata": {
    "collapsed": false
   },
   "outputs": [
    {
     "data": {
      "image/png": "[encoded data removed]",
      "text/plain": [
       "<matplotlib.figure.Figure at 0x118869590>"
      ]
     },
     "metadata": {},
     "output_type": "display_data"
    }
   ],
   "source": [
    "plotHistogram('fnlwgt')"
   ]
  },
  {
   "cell_type": "markdown",
   "metadata": {},
   "source": [
    "Whatever this features corresponds to, it seems to be similary distributed for both groups. For classification, this is probably not a very predictive feature, and we might to drop this it later."
   ]
  },
  {
   "cell_type": "markdown",
   "metadata": {},
   "source": [
    "#### education-num"
   ]
  },
  {
   "cell_type": "code",
   "execution_count": 29,
   "metadata": {
    "collapsed": false
   },
   "outputs": [
    {
     "data": {
      "image/png": "[encoded data removed]",
      "text/plain": [
       "<matplotlib.figure.Figure at 0x118767710>"
      ]
     },
     "metadata": {},
     "output_type": "display_data"
    }
   ],
   "source": [
    "plotHistogram('education-num')"
   ]
  },
  {
   "cell_type": "markdown",
   "metadata": {},
   "source": [
    "The numerical feature 'education-num' must be highly correlation to the categorical feature education. The higher the education num (years?), the higher the chances to earn a salary more than 50K.\n"
   ]
  },
  {
   "cell_type": "markdown",
   "metadata": {},
   "source": [
    "#### capital-gain"
   ]
  },
  {
   "cell_type": "code",
   "execution_count": 30,
   "metadata": {
    "collapsed": false
   },
   "outputs": [
    {
     "data": {
      "image/png": "[encoded data removed]",
      "text/plain": [
       "<matplotlib.figure.Figure at 0x11747dfd0>"
      ]
     },
     "metadata": {},
     "output_type": "display_data"
    }
   ],
   "source": [
    "plotHistogram('capital-gain', figsize = (10,8))"
   ]
  },
  {
   "cell_type": "markdown",
   "metadata": {},
   "source": [
    "Large captial gain seems occure a bit more often for the >50K income salary group, however, most of the datapoints are in the leftmost range. Thus, this might not be a very predictive feature."
   ]
  },
  {
   "cell_type": "markdown",
   "metadata": {},
   "source": [
    "#### capital-loss"
   ]
  },
  {
   "cell_type": "code",
   "execution_count": 31,
   "metadata": {
    "collapsed": false
   },
   "outputs": [
    {
     "data": {
      "image/png": "[encoded data removed]",
      "text/plain": [
       "<matplotlib.figure.Figure at 0x116884710>"
      ]
     },
     "metadata": {},
     "output_type": "display_data"
    }
   ],
   "source": [
    "plotHistogram('capital-loss', figsize = (10,8))"
   ]
  },
  {
   "cell_type": "markdown",
   "metadata": {},
   "source": [
    "Capital loss does not seem to be related too strongly on income, and again, most datapoints lie in the leftmost bin. Thus, capital losss might not be a very predictive feature either. "
   ]
  },
  {
   "cell_type": "markdown",
   "metadata": {},
   "source": [
    "#### hours-per-week"
   ]
  },
  {
   "cell_type": "code",
   "execution_count": 32,
   "metadata": {
    "collapsed": false
   },
   "outputs": [
    {
     "data": {
      "image/png": "[encoded data removed]",
      "text/plain": [
       "<matplotlib.figure.Figure at 0x118132ed0>"
      ]
     },
     "metadata": {},
     "output_type": "display_data"
    }
   ],
   "source": [
    "plotHistogram('hours-per-week')"
   ]
  },
  {
   "cell_type": "markdown",
   "metadata": {},
   "source": [
    "Most people work 40 hour a week. \n",
    "\n",
    "However, given that there only ca. 25% of our dataset falls into the income group of >50K, the > 50K worker tend to work longer, while the <= 50K workers more often work less than 40 hours a week."
   ]
  },
  {
   "cell_type": "code",
   "execution_count": null,
   "metadata": {
    "collapsed": true
   },
   "outputs": [],
   "source": []
  }
 ],
 "metadata": {
  "kernelspec": {
   "display_name": "Python 2",
   "language": "python",
   "name": "python2"
  },
  "language_info": {
   "codemirror_mode": {
    "name": "ipython",
    "version": 2
   },
   "file_extension": ".py",
   "mimetype": "text/x-python",
   "name": "python",
   "nbconvert_exporter": "python",
   "pygments_lexer": "ipython2",
   "version": "2.7.11"
  }
 },
 "nbformat": 4,
 "nbformat_minor": 0
}
